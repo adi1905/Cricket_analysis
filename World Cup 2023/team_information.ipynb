{
 "cells": [
  {
   "cell_type": "code",
   "execution_count": 106,
   "id": "8410dd6b",
   "metadata": {},
   "outputs": [],
   "source": [
    "from bs4 import BeautifulSoup\n",
    "import requests\n",
    "import pandas as pd"
   ]
  },
  {
   "cell_type": "code",
   "execution_count": 5,
   "id": "5c5e0ada",
   "metadata": {},
   "outputs": [],
   "source": [
    "html_text = requests.get(\"https://www.espncricinfo.com/team\")\n",
    "soup = BeautifulSoup(html_text.content,\"html.parser\")"
   ]
  },
  {
   "cell_type": "markdown",
   "id": "2db6857e",
   "metadata": {},
   "source": [
    "# Extract Teams name and flags"
   ]
  },
  {
   "cell_type": "code",
   "execution_count": 22,
   "id": "97811c1a",
   "metadata": {
    "collapsed": true
   },
   "outputs": [
    {
     "name": "stdout",
     "output_type": "stream",
     "text": [
      "['https://img1.hscicdn.com/image/upload/f_auto,t_ds_square_w_80/lsci/db/PICTURES/CMS/321000/321005.png', 'https://img1.hscicdn.com/image/upload/f_auto,t_ds_square_w_80/lsci/db/PICTURES/CMS/340400/340493.png', 'https://img1.hscicdn.com/image/upload/f_auto,t_ds_square_w_80/lsci/db/PICTURES/CMS/341400/341456.png', 'https://img1.hscicdn.com/image/upload/f_auto,t_ds_square_w_80/lsci/db/PICTURES/CMS/313100/313114.logo.png', 'https://img1.hscicdn.com/image/upload/f_auto,t_ds_square_w_80/lsci/db/PICTURES/CMS/313100/313128.logo.png', 'https://img1.hscicdn.com/image/upload/f_auto,t_ds_square_w_80/lsci/db/PICTURES/CMS/313100/313149.logo.png', 'https://img1.hscicdn.com/image/upload/f_auto,t_ds_square_w_80/lsci/db/PICTURES/CMS/340500/340505.png', 'https://img1.hscicdn.com/image/upload/f_auto,t_ds_square_w_80/lsci/db/PICTURES/CMS/313100/313129.logo.png', 'https://img1.hscicdn.com/image/upload/f_auto,t_ds_square_w_80/lsci/db/PICTURES/CMS/313100/313125.logo.png', 'https://img1.hscicdn.com/image/upload/f_auto,t_ds_square_w_80/lsci/db/PICTURES/CMS/340000/340047.png', 'https://img1.hscicdn.com/image/upload/f_auto,t_ds_square_w_80/lsci/db/PICTURES/CMS/317600/317615.png', 'https://img1.hscicdn.com/image/upload/f_auto,t_ds_square_w_80/lsci/db/PICTURES/CMS/340500/340503.png']\n"
     ]
    }
   ],
   "source": [
    "from selenium import webdriver\n",
    "from selenium.webdriver.common.by import By\n",
    "from selenium.webdriver.support.ui import WebDriverWait\n",
    "from selenium.webdriver.support import expected_conditions as EC\n",
    "\n",
    "driver = webdriver.Chrome()\n",
    "\n",
    "# Navigate to the website containing the images\n",
    "driver.get(\"https://www.espncricinfo.com/team\")\n",
    "\n",
    "# Wait for the image elements to appear on the page\n",
    "wait = WebDriverWait(driver, 10)\n",
    "images = wait.until(EC.presence_of_all_elements_located((By.TAG_NAME, \"img\")))\n",
    "\n",
    "# Extract the src attribute from each image element\n",
    "team_image_urls = [img.get_attribute(\"src\") for img in images]\n",
    "team_image_urls = team_image_urls[:12]\n",
    "# Print the list of image URLs\n",
    "print(team_image_urls)\n",
    "\n",
    "# Close the browser\n",
    "driver.quit()"
   ]
  },
  {
   "cell_type": "code",
   "execution_count": 23,
   "id": "7e344d08",
   "metadata": {},
   "outputs": [
    {
     "name": "stdout",
     "output_type": "stream",
     "text": [
      "['Afghanistan', 'Australia', 'Bangladesh', 'England', 'India', 'Ireland', 'New Zealand', 'Pakistan', 'South Africa', 'Sri Lanka', 'West Indies', 'Zimbabwe']\n"
     ]
    }
   ],
   "source": [
    "team_name_span = soup.find_all(\"span\",class_ = \"ds-text-title-s ds-font-bold\")\n",
    "team_names = [name.text for name in team_name_span]\n",
    "team_names = team_names[:12]\n",
    "print(team_names)"
   ]
  },
  {
   "cell_type": "code",
   "execution_count": 27,
   "id": "b99379b7",
   "metadata": {},
   "outputs": [],
   "source": [
    "import csv\n",
    "fields = ['Team Name','Team Image']\n",
    "team_info_list = zip(team_names,team_image_urls)\n",
    "with open('team_info.csv','w') as file:\n",
    "    writer = csv.writer(file)\n",
    "    writer.writerow(fields)\n",
    "    writer.writerows(team_info_list)"
   ]
  },
  {
   "cell_type": "markdown",
   "id": "3aa27f79",
   "metadata": {},
   "source": [
    "# Extract teams world cup performance"
   ]
  },
  {
   "cell_type": "code",
   "execution_count": 48,
   "id": "bbb9593d",
   "metadata": {
    "collapsed": true
   },
   "outputs": [
    {
     "data": {
      "text/plain": [
       "[['Afghanistan', '2015-2019', '15', '1', '14', '0', '0', '6.66'],\n",
       " ['Australia', '1975-2019', '94', '69', '23', '1', '1', '74.73'],\n",
       " ['Bangladesh', '1999-2019', '40', '14', '25', '0', '1', '35.89'],\n",
       " ['Bermuda', '2007-2007', '3', '0', '3', '0', '0', '0'],\n",
       " ['Canada', '1979-2011', '18', '2', '16', '0', '0', '11.11'],\n",
       " ['East Africa', '1975-1975', '3', '0', '3', '0', '0', '0'],\n",
       " ['England', '1975-2019', '83', '48', '32', '2', '1', '59.75'],\n",
       " ['India', '1975-2019', '84', '53', '29', '1', '1', '64.45'],\n",
       " ['Ireland', '2007-2015', '21', '7', '13', '1', '0', '35.71'],\n",
       " ['Kenya', '1996-2011', '29', '6', '22', '0', '1', '21.42'],\n",
       " ['Namibia', '2003-2003', '6', '0', '6', '0', '0', '0'],\n",
       " ['Netherlands', '1996-2011', '20', '2', '18', '0', '0', '10'],\n",
       " ['New Zealand', '1975-2019', '89', '54', '33', '1', '1', '61.93'],\n",
       " ['Pakistan', '1975-2019', '79', '45', '32', '0', '2', '58.44'],\n",
       " ['Scotland', '1999-2015', '14', '0', '14', '0', '0', '0'],\n",
       " ['South Africa', '1992-2019', '64', '38', '23', '2', '1', '61.9'],\n",
       " ['Sri Lanka', '1975-2019', '80', '38', '39', '1', '2', '49.35'],\n",
       " ['United Arab Emirates', '1996-2015', '11', '1', '10', '0', '0', '9.09'],\n",
       " ['West Indies', '1975-2019', '80', '43', '35', '0', '2', '55.12'],\n",
       " ['Zimbabwe', '1983-2015', '57', '11', '42', '1', '3', '21.29']]"
      ]
     },
     "execution_count": 48,
     "metadata": {},
     "output_type": "execute_result"
    }
   ],
   "source": [
    "records_text = requests.get(\"https://stats.espncricinfo.com/ci/engine/records/team/results_summary.html?id=12;type=trophy\")\n",
    "records_soup = BeautifulSoup(records_text.content,\"html.parser\")\n",
    "table = records_soup.find(\"table\",class_ = \"engineTable\")\n",
    "thead = [th.text for th in table.find_all(\"th\")]\n",
    "rows = []\n",
    "for tr in table.find_all(\"tr\"):\n",
    "    row = [td.text for td in tr.find_all(\"td\")]\n",
    "    if row:\n",
    "        rows.append(row)\n",
    "rows"
   ]
  },
  {
   "cell_type": "code",
   "execution_count": 49,
   "id": "e93be3d6",
   "metadata": {},
   "outputs": [],
   "source": [
    "#store the world_cup data for all teams\n",
    "with open('world_cup_records.csv','w') as file:\n",
    "    writer = csv.writer(file)\n",
    "    writer.writerow(thead)\n",
    "    writer.writerows(rows)"
   ]
  },
  {
   "cell_type": "markdown",
   "id": "62380685",
   "metadata": {},
   "source": [
    "# Merge the teams name and images data with teams world cup performance data"
   ]
  },
  {
   "cell_type": "code",
   "execution_count": 68,
   "id": "9acf5ae2",
   "metadata": {},
   "outputs": [],
   "source": [
    "with open('team_info.csv','r') as file:\n",
    "    reader = csv.reader(file)\n",
    "    team_data = list(reader)\n",
    "\n",
    "with open('world_cup_records.csv','r') as file:\n",
    "    reader = csv.reader(file)\n",
    "    world_cup_data = list(reader)\n",
    "\n",
    "combined_data = []\n",
    "for team in team_data:\n",
    "    team_name = team[0]\n",
    "    team_image = team[1]    \n",
    "    for wc_team in world_cup_data:\n",
    "        if wc_team[0] == team_name:\n",
    "            team_span = wc_team[1]\n",
    "            team_matches = wc_team[2]\n",
    "            team_matches_won = wc_team[3]\n",
    "            team_matches_lost = wc_team[4]\n",
    "            team_matches_tied = wc_team[5]\n",
    "            team_matches_runRate = wc_team[6]\n",
    "            team_matches_winningPer = wc_team[7]\n",
    "            combined_data.append([team_name,team_image,team_span,team_matches,team_matches_won,team_matches_lost,team_matches_tied,team_matches_runRate,team_matches_winningPer])"
   ]
  },
  {
   "cell_type": "markdown",
   "id": "52a08376",
   "metadata": {},
   "source": [
    "# Extract the teams world cup winning data"
   ]
  },
  {
   "cell_type": "code",
   "execution_count": 72,
   "id": "a993abcb",
   "metadata": {},
   "outputs": [],
   "source": [
    "#teams world cup winning data\n",
    "winning_text = requests.get(\"https://www.careerpower.in/cricket-world-cup-winners-list.html\")\n",
    "winning_soup = BeautifulSoup(winning_text.content,\"html.parser\")\n"
   ]
  },
  {
   "cell_type": "code",
   "execution_count": 103,
   "id": "01c85ecf",
   "metadata": {},
   "outputs": [],
   "source": [
    "table = winning_soup.find_all(\"table\")[1]\n",
    "heads = [th.text for th in table.find_all(\"tr\")[0]]\n",
    "thead = [head.replace(\"\\xa0\",\" \") for head in heads]\n",
    "winning_data = []\n",
    "for tr in table.find_all(\"tr\")[1:]:\n",
    "    row = [td.text for td in tr.find_all(\"td\")]\n",
    "    winning_data.append(row)"
   ]
  },
  {
   "cell_type": "code",
   "execution_count": 102,
   "id": "3e5930ca",
   "metadata": {
    "collapsed": true
   },
   "outputs": [
    {
     "data": {
      "text/plain": [
       "[['Afghanistan',\n",
       "  'https://img1.hscicdn.com/image/upload/f_auto,t_ds_square_w_80/lsci/db/PICTURES/CMS/321000/321005.png',\n",
       "  '2015-2019',\n",
       "  '15',\n",
       "  '1',\n",
       "  '14',\n",
       "  '0',\n",
       "  '0',\n",
       "  '6.66'],\n",
       " ['Australia',\n",
       "  'https://img1.hscicdn.com/image/upload/f_auto,t_ds_square_w_80/lsci/db/PICTURES/CMS/340400/340493.png',\n",
       "  '1975-2019',\n",
       "  '94',\n",
       "  '69',\n",
       "  '23',\n",
       "  '1',\n",
       "  '1',\n",
       "  '74.73'],\n",
       " ['Bangladesh',\n",
       "  'https://img1.hscicdn.com/image/upload/f_auto,t_ds_square_w_80/lsci/db/PICTURES/CMS/341400/341456.png',\n",
       "  '1999-2019',\n",
       "  '40',\n",
       "  '14',\n",
       "  '25',\n",
       "  '0',\n",
       "  '1',\n",
       "  '35.89'],\n",
       " ['England',\n",
       "  'https://img1.hscicdn.com/image/upload/f_auto,t_ds_square_w_80/lsci/db/PICTURES/CMS/313100/313114.logo.png',\n",
       "  '1975-2019',\n",
       "  '83',\n",
       "  '48',\n",
       "  '32',\n",
       "  '2',\n",
       "  '1',\n",
       "  '59.75'],\n",
       " ['India',\n",
       "  'https://img1.hscicdn.com/image/upload/f_auto,t_ds_square_w_80/lsci/db/PICTURES/CMS/313100/313128.logo.png',\n",
       "  '1975-2019',\n",
       "  '84',\n",
       "  '53',\n",
       "  '29',\n",
       "  '1',\n",
       "  '1',\n",
       "  '64.45'],\n",
       " ['Ireland',\n",
       "  'https://img1.hscicdn.com/image/upload/f_auto,t_ds_square_w_80/lsci/db/PICTURES/CMS/313100/313149.logo.png',\n",
       "  '2007-2015',\n",
       "  '21',\n",
       "  '7',\n",
       "  '13',\n",
       "  '1',\n",
       "  '0',\n",
       "  '35.71'],\n",
       " ['New Zealand',\n",
       "  'https://img1.hscicdn.com/image/upload/f_auto,t_ds_square_w_80/lsci/db/PICTURES/CMS/340500/340505.png',\n",
       "  '1975-2019',\n",
       "  '89',\n",
       "  '54',\n",
       "  '33',\n",
       "  '1',\n",
       "  '1',\n",
       "  '61.93'],\n",
       " ['Pakistan',\n",
       "  'https://img1.hscicdn.com/image/upload/f_auto,t_ds_square_w_80/lsci/db/PICTURES/CMS/313100/313129.logo.png',\n",
       "  '1975-2019',\n",
       "  '79',\n",
       "  '45',\n",
       "  '32',\n",
       "  '0',\n",
       "  '2',\n",
       "  '58.44'],\n",
       " ['South Africa',\n",
       "  'https://img1.hscicdn.com/image/upload/f_auto,t_ds_square_w_80/lsci/db/PICTURES/CMS/313100/313125.logo.png',\n",
       "  '1992-2019',\n",
       "  '64',\n",
       "  '38',\n",
       "  '23',\n",
       "  '2',\n",
       "  '1',\n",
       "  '61.9'],\n",
       " ['Sri Lanka',\n",
       "  'https://img1.hscicdn.com/image/upload/f_auto,t_ds_square_w_80/lsci/db/PICTURES/CMS/340000/340047.png',\n",
       "  '1975-2019',\n",
       "  '80',\n",
       "  '38',\n",
       "  '39',\n",
       "  '1',\n",
       "  '2',\n",
       "  '49.35'],\n",
       " ['West Indies',\n",
       "  'https://img1.hscicdn.com/image/upload/f_auto,t_ds_square_w_80/lsci/db/PICTURES/CMS/317600/317615.png',\n",
       "  '1975-2019',\n",
       "  '80',\n",
       "  '43',\n",
       "  '35',\n",
       "  '0',\n",
       "  '2',\n",
       "  '55.12'],\n",
       " ['Zimbabwe',\n",
       "  'https://img1.hscicdn.com/image/upload/f_auto,t_ds_square_w_80/lsci/db/PICTURES/CMS/340500/340503.png',\n",
       "  '1983-2015',\n",
       "  '57',\n",
       "  '11',\n",
       "  '42',\n",
       "  '1',\n",
       "  '3',\n",
       "  '21.29']]"
      ]
     },
     "execution_count": 102,
     "metadata": {},
     "output_type": "execute_result"
    }
   ],
   "source": [
    "combined_data"
   ]
  },
  {
   "cell_type": "code",
   "execution_count": 104,
   "id": "7b1f3fcd",
   "metadata": {},
   "outputs": [
    {
     "data": {
      "text/plain": [
       "[['Australia', '7', '5', '2', '1987, 1999, 2003, 2007, 2015', '1975, 1996'],\n",
       " ['England', '4', '1', '3', '2019', '1979, 1987, 1992'],\n",
       " ['India', '3', '2', '1', '1983, 2011', '2003'],\n",
       " ['New Zealand', '2', '0', '2', '-', '2015, 2019'],\n",
       " ['Pakistan', '2', '1', '1', '1992', '1999'],\n",
       " ['Sri Lanka', '3', '1', '2', '1996', '2007, 2011'],\n",
       " ['West Indies', '3', '2', '1', '1975, 1979', '1983']]"
      ]
     },
     "execution_count": 104,
     "metadata": {},
     "output_type": "execute_result"
    }
   ],
   "source": [
    "winning_data"
   ]
  },
  {
   "cell_type": "markdown",
   "id": "9af94c69",
   "metadata": {},
   "source": [
    "#  Merge all the data to form the final teams_data\n",
    "            \n",
    "            \n",
    "    "
   ]
  },
  {
   "cell_type": "code",
   "execution_count": 119,
   "id": "53ac3765",
   "metadata": {},
   "outputs": [],
   "source": [
    "df1 = pd.DataFrame(combined_data,columns = [\"Team Name\",\"Flag Images\",\"Span\",\"Matches\",\"Won\",\"Lost\",\"Tied\",\"Net Run Rate(NR)\",\"Winning %\"])\n",
    "df2 = pd.DataFrame(winning_data,columns = [\"Team Name\",\"Final Apperances\",\"Winners\",\"Runners\",\"Years Won\",\"Years Runners\"])\n",
    "\n",
    "merged_df = pd.merge(df1, df2, on='Team Name', how='left')\n",
    "merged_df = merged_df.where((pd.notnull(merged_df)), '-')\n",
    "\n",
    ";"
   ]
  },
  {
   "cell_type": "code",
   "execution_count": null,
   "id": "394d9657",
   "metadata": {},
   "outputs": [],
   "source": []
  },
  {
   "cell_type": "code",
   "execution_count": null,
   "id": "b8c6fb37",
   "metadata": {},
   "outputs": [],
   "source": []
  },
  {
   "cell_type": "code",
   "execution_count": null,
   "id": "faabc08b",
   "metadata": {},
   "outputs": [],
   "source": []
  }
 ],
 "metadata": {
  "kernelspec": {
   "display_name": "Python 3 (ipykernel)",
   "language": "python",
   "name": "python3"
  },
  "language_info": {
   "codemirror_mode": {
    "name": "ipython",
    "version": 3
   },
   "file_extension": ".py",
   "mimetype": "text/x-python",
   "name": "python",
   "nbconvert_exporter": "python",
   "pygments_lexer": "ipython3",
   "version": "3.8.10"
  },
  "varInspector": {
   "cols": {
    "lenName": 16,
    "lenType": 16,
    "lenVar": 40
   },
   "kernels_config": {
    "python": {
     "delete_cmd_postfix": "",
     "delete_cmd_prefix": "del ",
     "library": "var_list.py",
     "varRefreshCmd": "print(var_dic_list())"
    },
    "r": {
     "delete_cmd_postfix": ") ",
     "delete_cmd_prefix": "rm(",
     "library": "var_list.r",
     "varRefreshCmd": "cat(var_dic_list()) "
    }
   },
   "types_to_exclude": [
    "module",
    "function",
    "builtin_function_or_method",
    "instance",
    "_Feature"
   ],
   "window_display": false
  }
 },
 "nbformat": 4,
 "nbformat_minor": 5
}
