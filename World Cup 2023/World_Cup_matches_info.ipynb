{
 "cells": [
  {
   "cell_type": "code",
   "execution_count": 58,
   "id": "1d346b20",
   "metadata": {},
   "outputs": [],
   "source": [
    "import pandas as pd\n",
    "import warnings\n",
    "warnings.filterwarnings(\"ignore\")\n",
    "from bs4 import BeautifulSoup\n",
    "import requests"
   ]
  },
  {
   "cell_type": "markdown",
   "id": "c83a51c2",
   "metadata": {},
   "source": [
    "# Extracting every odi world cup match for later predictions"
   ]
  },
  {
   "cell_type": "code",
   "execution_count": 55,
   "id": "31ebd276",
   "metadata": {},
   "outputs": [],
   "source": [
    "html_content = requests.get(\"https://stats.espncricinfo.com/ci/engine/records/team/match_results_season.html?id=12;type=trophy\")\n",
    "soup = BeautifulSoup(html_content.content,\"html.parser\")\n",
    "table = soup.find(\"table\",class_ = \"recordsTable\")\n",
    "anchor = table.find_all(\"a\")\n",
    "yearwise_links = [\"https://stats.espncricinfo.com\" + a['href'] for a in anchor]"
   ]
  },
  {
   "cell_type": "code",
   "execution_count": 73,
   "id": "d8004260",
   "metadata": {},
   "outputs": [],
   "source": [
    "def scrap_world_cup_matches_info(links_list):\n",
    "    matches_df = pd.DataFrame()\n",
    "    for link in links_list:\n",
    "        html_content = requests.get(link)\n",
    "        soup = BeautifulSoup(html_content.content,\"html.parser\")\n",
    "        table = soup.find(\"table\",class_ = \"engineTable\")\n",
    "        columns = []\n",
    "        for th in table.find_all(\"th\"):\n",
    "            columns.append(th.text.strip())\n",
    "        data = []\n",
    "        for tr in table.find(\"tbody\").find_all(\"tr\"):\n",
    "            row = []\n",
    "            for td in tr.find_all(\"td\"):\n",
    "                row.append(td.text.strip())\n",
    "            data.append(row)\n",
    "        columns = ['Team 1','Team 2','Winner','Margin','Ground','Match Date','Match id']\n",
    "        for row in data:\n",
    "            match = row[0] + \" vs \" + row[1]\n",
    "            row.insert(0, match)\n",
    "            matches_df = matches_df.append(pd.Series(row, index=['Match'] + columns), ignore_index=True)\n",
    "    return matches_df"
   ]
  },
  {
   "cell_type": "code",
   "execution_count": 74,
   "id": "3be89761",
   "metadata": {},
   "outputs": [],
   "source": [
    "matches_df = scrap_world_cup_matches_info(yearwise_links)"
   ]
  },
  {
   "cell_type": "code",
   "execution_count": 79,
   "id": "acdc3e0d",
   "metadata": {},
   "outputs": [],
   "source": [
    "matches_df.to_csv(\"world_cup_matches_data.csv\",index=False)"
   ]
  },
  {
   "cell_type": "code",
   "execution_count": null,
   "id": "0dd4ea34",
   "metadata": {},
   "outputs": [],
   "source": []
  },
  {
   "cell_type": "code",
   "execution_count": null,
   "id": "f8cce637",
   "metadata": {},
   "outputs": [],
   "source": []
  },
  {
   "cell_type": "code",
   "execution_count": null,
   "id": "c314c90a",
   "metadata": {},
   "outputs": [],
   "source": []
  }
 ],
 "metadata": {
  "kernelspec": {
   "display_name": "Python 3 (ipykernel)",
   "language": "python",
   "name": "python3"
  },
  "language_info": {
   "codemirror_mode": {
    "name": "ipython",
    "version": 3
   },
   "file_extension": ".py",
   "mimetype": "text/x-python",
   "name": "python",
   "nbconvert_exporter": "python",
   "pygments_lexer": "ipython3",
   "version": "3.8.10"
  },
  "varInspector": {
   "cols": {
    "lenName": 16,
    "lenType": 16,
    "lenVar": 40
   },
   "kernels_config": {
    "python": {
     "delete_cmd_postfix": "",
     "delete_cmd_prefix": "del ",
     "library": "var_list.py",
     "varRefreshCmd": "print(var_dic_list())"
    },
    "r": {
     "delete_cmd_postfix": ") ",
     "delete_cmd_prefix": "rm(",
     "library": "var_list.r",
     "varRefreshCmd": "cat(var_dic_list()) "
    }
   },
   "types_to_exclude": [
    "module",
    "function",
    "builtin_function_or_method",
    "instance",
    "_Feature"
   ],
   "window_display": false
  }
 },
 "nbformat": 4,
 "nbformat_minor": 5
}
